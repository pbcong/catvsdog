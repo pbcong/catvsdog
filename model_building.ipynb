{
  "nbformat": 4,
  "nbformat_minor": 0,
  "metadata": {
    "colab": {
      "provenance": [],
      "gpuType": "T4",
      "mount_file_id": "1dRvdSif-RLabmw_e2zO7yxdMG-LhPR5o",
      "authorship_tag": "ABX9TyP9bsGXdPnNGPLcngpv2izr",
      "include_colab_link": true
    },
    "kernelspec": {
      "name": "python3",
      "display_name": "Python 3"
    },
    "language_info": {
      "name": "python"
    },
    "accelerator": "GPU"
  },
  "cells": [
    {
      "cell_type": "markdown",
      "metadata": {
        "id": "view-in-github",
        "colab_type": "text"
      },
      "source": [
        "<a href=\"https://colab.research.google.com/github/pbcong/catvsdog/blob/main/model_building.ipynb\" target=\"_parent\"><img src=\"https://colab.research.google.com/assets/colab-badge.svg\" alt=\"Open In Colab\"/></a>"
      ]
    },
    {
      "cell_type": "code",
      "source": [
        "from google.colab import drive\n",
        "drive.mount('/content/gdrive')"
      ],
      "metadata": {
        "id": "FWA_yX6vMxXL"
      },
      "execution_count": null,
      "outputs": []
    },
    {
      "cell_type": "code",
      "execution_count": null,
      "metadata": {
        "id": "AHklvQpJiO2o"
      },
      "outputs": [],
      "source": [
        "#import libraries\n",
        "import tensorflow as tf\n",
        "import os\n",
        "import pandas\n",
        "import numpy as np\n",
        "import matplotlib.pyplot as plt\n",
        "from tensorflow.keras import Sequential\n",
        "from tensorflow.keras.callbacks import EarlyStopping\n",
        "from tensorflow.keras.layers import Dropout, Dense, Conv2D, MaxPooling2D, Flatten\n",
        "import cv2\n",
        "import imghdr"
      ]
    },
    {
      "cell_type": "code",
      "source": [
        "#check no of GPUs used for training\n",
        "print(\"Num GPUs Available: \", len(tf.config.list_physical_devices('GPU')))"
      ],
      "metadata": {
        "id": "mTugorbNjsS3"
      },
      "execution_count": null,
      "outputs": []
    },
    {
      "cell_type": "code",
      "source": [
        "#using keras.utils to load image data (change the directory to where data is stored)\n",
        "data = tf.keras.utils.image_dataset_from_directory('/content/data')             #this automatically resize the images to 256*256 and divide them into batches of 32 images\n",
        "len(data)"
      ],
      "metadata": {
        "id": "7XmuAb9jjtqK"
      },
      "execution_count": null,
      "outputs": []
    },
    {
      "cell_type": "code",
      "source": [
        "#create an iterator to go through the data\n",
        "data_iterator = data.as_numpy_iterator()\n",
        "batch = data_iterator.next()"
      ],
      "metadata": {
        "id": "PpXUIcMkjt16"
      },
      "execution_count": null,
      "outputs": []
    },
    {
      "cell_type": "code",
      "source": [
        "#checking the value mapped for dogs and cats\n",
        "#0: cats\n",
        "#1: dogs\n",
        "fix, ax = plt.subplots(ncols=4, figsize=(20, 20))\n",
        "for idx, img in enumerate (batch[0][:4]):\n",
        "    ax[idx].imshow(img.astype(int))\n",
        "    ax[idx].title.set_text(batch[1][idx])"
      ],
      "metadata": {
        "id": "_tFtG3ZWjt42"
      },
      "execution_count": null,
      "outputs": []
    },
    {
      "cell_type": "code",
      "source": [
        "#map the RBG values of the images to values between 0 and 1 for more efficient training (divide by 255)\n",
        "data = data.map (lambda x, y: (x/255, y))"
      ],
      "metadata": {
        "id": "-H4C4-rAjt7a"
      },
      "execution_count": null,
      "outputs": []
    },
    {
      "cell_type": "code",
      "source": [
        "scaled_iterator = data.as_numpy_iterator() #create new iterator for the new data\n",
        "batch = scaled_iterator.next()"
      ],
      "metadata": {
        "id": "KF9VtglzjuRH"
      },
      "execution_count": null,
      "outputs": []
    },
    {
      "cell_type": "code",
      "source": [
        "#checking the mapping (max = 1 and min = 0 is ok)\n",
        "batch[0].max()\n",
        "batch[0].min()"
      ],
      "metadata": {
        "id": "S32DxQpLjuVQ"
      },
      "execution_count": null,
      "outputs": []
    },
    {
      "cell_type": "code",
      "source": [
        "#spliting the data\n",
        "train_size=len(data)*0.7\n",
        "val_size=len(data)*0.3\n",
        "train = data.take(train_size)\n",
        "val=data.take(val_size)"
      ],
      "metadata": {
        "id": "AHVubCvNj9vK"
      },
      "execution_count": null,
      "outputs": []
    },
    {
      "cell_type": "code",
      "source": [
        " #creating the model (binary classification)\n",
        " model = Sequential([\n",
        "     Conv2D (16, (3, 3), 1, activation = 'relu', input_shape=(256, 256, 3)),\n",
        "     MaxPooling2D(),\n",
        "     Conv2D (32, (3, 3), 1, activation = 'relu'),\n",
        "     MaxPooling2D(),\n",
        "     Conv2D (16, (3, 3), 1, activation = 'relu', input_shape=(256, 256, 3)),\n",
        "     MaxPooling2D(),\n",
        "     Flatten(),\n",
        "     Dense (256, activation = 'relu'),\n",
        "     Dense (1, activation='sigmoid')\n",
        " ])"
      ],
      "metadata": {
        "id": "Zmgkxo8yj9zu"
      },
      "execution_count": null,
      "outputs": []
    },
    {
      "cell_type": "code",
      "source": [
        "#optimizer and early stopping\n",
        "model.compile (\n",
        "    optimizer='adam',\n",
        "    loss = tf.losses.BinaryCrossentropy(),\n",
        "    metrics=['accuracy']\n",
        ")\n",
        "early_stopping=EarlyStopping (\n",
        "    min_delta=0.001,\n",
        "    patience=3,\n",
        "    restore_best_weights=True\n",
        ")"
      ],
      "metadata": {
        "id": "n9zfoYHaj91t"
      },
      "execution_count": null,
      "outputs": []
    },
    {
      "cell_type": "code",
      "source": [
        "model.summary()"
      ],
      "metadata": {
        "id": "Z4VY2TBDj96H"
      },
      "execution_count": null,
      "outputs": []
    },
    {
      "cell_type": "code",
      "source": [
        "#fitting model\n",
        "history=model.fit (\n",
        "    train,\n",
        "    epochs=100,\n",
        "    validation_data=val,\n",
        "    callbacks=[early_stopping]\n",
        ")"
      ],
      "metadata": {
        "id": "gsqkjttqj99V"
      },
      "execution_count": null,
      "outputs": []
    },
    {
      "cell_type": "code",
      "source": [
        "#checking\n",
        "plt.plot (history.history['loss'])\n",
        "plt.plot (history.history['val_loss'])"
      ],
      "metadata": {
        "id": "sa0ng2Gxj9_y"
      },
      "execution_count": null,
      "outputs": []
    },
    {
      "cell_type": "code",
      "source": [
        "model.save('/content/drive/MyDrive/models/catvsdog.h5')"
      ],
      "metadata": {
        "id": "nkXUcxOMwUcW"
      },
      "execution_count": null,
      "outputs": []
    },
    {
      "cell_type": "code",
      "source": [
        "#testing model\n",
        "import cv2\n",
        "import tensorflow as tf\n",
        "img = cv2.imread('/content/test.jpg')\n",
        "resized = tf.image.resize (img, (256, 256))"
      ],
      "metadata": {
        "id": "ayATVeL8w4_R"
      },
      "execution_count": null,
      "outputs": []
    },
    {
      "cell_type": "code",
      "source": [
        "plt.imshow (resized.numpy().astype(int))\n",
        "plt.show()"
      ],
      "metadata": {
        "id": "gS25MkFOaTo_"
      },
      "execution_count": null,
      "outputs": []
    },
    {
      "cell_type": "code",
      "source": [
        "#the cv2.imread function uses the BGR color coding while matplotlib uses RGB\n",
        "plt.imshow (cv2.cvtColor (img, cv2.COLOR_BGR2RGB))\n",
        "plt.show()"
      ],
      "metadata": {
        "id": "dqCKCq7jbRSU"
      },
      "execution_count": null,
      "outputs": []
    },
    {
      "cell_type": "code",
      "source": [
        "new = load_model ('/content/catvsdog.h5')"
      ],
      "metadata": {
        "id": "kLuImAseb-dY"
      },
      "execution_count": null,
      "outputs": []
    },
    {
      "cell_type": "code",
      "source": [
        "#np.expandims expand the dimension of the image array (to match the type required)\n",
        "model.predict (np.expandims (resized/255, 0))"
      ],
      "metadata": {
        "id": "0chQSiHFN7GJ"
      },
      "execution_count": null,
      "outputs": []
    }
  ]
}